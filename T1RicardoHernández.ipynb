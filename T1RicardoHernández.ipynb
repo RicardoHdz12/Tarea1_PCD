{
 "cells": [
  {
   "cell_type": "markdown",
   "id": "250536c0",
   "metadata": {},
   "source": [
    "<img style=\"float: right; margin: 0px 0px 15px 15px;\" src=\"https://oci02.img.iteso.mx/Identidades-De-Instancia/ITESO/Logos%20ITESO/Logo-ITESO-Principal.jpg\" width=\"350px\" height=\"180px\" />\n",
    "\n",
    "\n",
    "# <font color= #8A0829> Proyecto de Ciencia de Datos </font>\n",
    "- <Strong> `Ricardo Damián Hernández Ramírez` </Strong>\n",
    "\n",
    " </font>\n",
    "___\n"
   ]
  },
  {
   "cell_type": "markdown",
   "id": "b1515cfd",
   "metadata": {},
   "source": [
    "## Resumen: Introducción a MLOps\n",
    "\n",
    "\n",
    "\n",
    "![imagen by Author](https://miro.medium.com/v2/resize:fit:2000/format:webp/1*2X-sjNgubgUgzZk3WhGfQA.png)\n",
    "<p style=\"text-align:center; font-size:11.5px\">Imagen del autor original</p>\n",
    "\n"
   ]
  },
  {
   "cell_type": "markdown",
   "id": "2bdf40c7",
   "metadata": {},
   "source": [
    "El [artículo](https://towardsdatascience.com/a-gentle-introduction-to-mlops-7d64a3e890ff) explora el concepto de MLOps (Machine Learning Operations), que abarca el despliegue de modelos de aprendizaje automático en entornos de producción. MLOps aborda desafíos como la gestión de datos, la confiabilidad del modelo y el monitoreo.\n",
    "\n",
    "### **¿Qué es MLOps?** \n",
    "\n",
    "MLOps es el proceso de desplegar modelos de aprendizaje automático en entornos de producción,asegurando la escalabilidad, precisión y confiabilidad de los modelos. \n",
    "\n",
    "### **¿Por qué necesitamos MLOps?**\n",
    "   - Los modelos de Machine Learning (ML) requieren una gestión compleja de datos.\n",
    "   - Es difícil hacer un seguimiento de los parámetros que modificamos en los modelos de ML. `Pequeños cambios pueden conducir a enormes diferencias en los resultados`.\n",
    "   - La ingeniería de características es una tarea separada que contribuye a la precisión del modelo, requiriendo un seguimiento cuidadoso.\n",
    "   - Monitorear y depurar modelos de ML es complejo.\n",
    "   - Los modelos deben ser capaces de adaptarse a las modificaciones en los datos del mundo real.\n",
    "\n",
    "### **MLOps vs. DevOps:**\n",
    "\n",
    "![DevOps Cycle](https://miro.medium.com/v2/resize:fit:786/format:webp/1*UaVl9RVzdWSyiqSXVHxtlw.png)\n",
    "<p style=\"text-align:center; font-size:11.5px\">Imagen del autor original</p>\n",
    " \n",
    "\n",
    "   - DevOps se centra en desarrollo de software; MLOps, en implementación de modelos de ML.\n",
    "   - MLOps involucra definir alcance, ingeniería de datos, modelización, despliegue y monitoreo.\n",
    " "
   ]
  },
  {
   "cell_type": "markdown",
   "id": "5e905f47",
   "metadata": {},
   "source": [
    "\n",
    "### **Etapas de MLOps:**\n",
    "\n",
    "![ML Project Lifecycle](https://miro.medium.com/v2/resize:fit:2000/format:webp/1*3KN_-nb0DXEEvE0jOLMV3w.png)\n",
    "<p style=\"text-align:center; font-size:11.5px\">Imagen del autor original</p>\n",
    "\n",
    "   - **Alcance:** Se define el proyecto, se verifica si se requiere ML para resolverlo y la disponibilidad de datos relevantes.\n",
    "   - **Ingeniería de Datos:** Esta etapa implica la recopilación de datos, limpieza y formateo.\n",
    "   - **Modelado:** Se entrena el modelo con los datos procesados. Se realizan análisis de errores y se realiza un seguimiento del rendimiento del modelo.\n",
    "   - **Despliegue:** Empaquetado y despliegue del modelo en la nube o un servidor API.\n",
    "   - **Monitoreo:** Vigilar el modelo y la infraestructura.\n",
    "\n",
    "### **Infraestructura de producción de ML:**\n",
    "   - **Recolección de Datos:** Obtener datos de diversas fuentes.\n",
    "   - **Verificación de los datos:** Validar que los datos estén actualizados, sean confiables y reflejen al mundo real.\n",
    "   - **Extracción de Características:** Seleccionar características más relevantes.\n",
    "   - **Configuración:**  involucra establecer los protocolos para las comunicaciones y las integraciones del sistema. Esto incluye establecer conexiones entre la canalización de datos y la base de datos, configurar el acceso apropiado para el modelo y definir cómo el modelo expone puntos de predicción.\n",
    "   - **Código de ML:** Desarrollo y mejora de hiperparámetros del modelo.\n",
    "   - **Gestión de Recursos:** Planificar recursos de máquina, como CPU y GPU, memoria y espacio.\n",
    "   - **Herramienta de Análisis:** Evaluar rendimiento y precisión.\n",
    "   - **Gestión de Proyectos:** Seguimiento y gestión del proyecto.\n",
    "   - **Infraestructura de Servicio:** Implementar el modelo en algún lugar al que los usuarios puedan acceder. La mayoría de los modelos se implementan en la nube.\n",
    "   - **Monitoreo:** Observar rendimiento del modelo y el sistema donde se ejecuta.\n",
    "\n",
    ".\n",
    "\n",
    "\n",
    "_Fuente: [A Gentle Introduction to MLOps\n",
    "](https://towardsdatascience.com/a-gentle-introduction-to-mlops-7d64a3e890ff)_"
   ]
  }
 ],
 "metadata": {
  "kernelspec": {
   "display_name": "Python 3 (ipykernel)",
   "language": "python",
   "name": "python3"
  },
  "language_info": {
   "codemirror_mode": {
    "name": "ipython",
    "version": 3
   },
   "file_extension": ".py",
   "mimetype": "text/x-python",
   "name": "python",
   "nbconvert_exporter": "python",
   "pygments_lexer": "ipython3",
   "version": "3.9.13"
  }
 },
 "nbformat": 4,
 "nbformat_minor": 5
}
