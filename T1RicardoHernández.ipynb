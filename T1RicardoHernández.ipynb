{
 "cells": [
  {
   "cell_type": "markdown",
   "id": "f41d267b",
   "metadata": {},
   "source": [
    "<img style=\"float: right; margin: 0px 0px 15px 15px;\" src=\"https://oci02.img.iteso.mx/Identidades-De-Instancia/ITESO/Logos%20ITESO/Logo-ITESO-Principal.jpg\" width=\"350px\" height=\"180px\" />\n",
    "\n",
    "\n",
    "# <font color= #8A0829> Proyecto de Ciencia de Datos </font>\n",
    "- <Strong> `Ricardo Damián Hernández Ramírez` </Strong>\n",
    "- <Strong> código </Strong>: 740356\n",
    " </font>\n",
    "___\n"
   ]
  },
  {
   "cell_type": "markdown",
   "id": "43681372",
   "metadata": {},
   "source": [
    "## Resumen: Introducción a MLOps\n",
    "\n",
    "\n",
    "\n",
    "![imagen by Author](https://miro.medium.com/v2/resize:fit:2000/format:webp/1*2X-sjNgubgUgzZk3WhGfQA.png)\n",
    "_Imagen del autor original._\n",
    "\n"
   ]
  },
  {
   "cell_type": "markdown",
   "id": "21cac901",
   "metadata": {},
   "source": [
    "El [artículo](https://towardsdatascience.com/a-gentle-introduction-to-mlops-7d64a3e890ff) explora el concepto de MLOps (Machine Learning Operations), que abarca el despliegue de modelos de aprendizaje automático en entornos de producción. MLOps aborda desafíos como la gestión de datos, la confiabilidad del modelo y el monitoreo.\n",
    "\n",
    "### **¿Qué es MLOps?:** \n",
    "\n",
    "MLOps es el proceso de desplegar modelos de aprendizaje automático en entornos de producción. Asegurando la escalabilidad, precisión y confiabilidad de los modelos. \n",
    "\n",
    "### **Importancia de MLOps:**\n",
    "   - Los modelos de Machine Learning requieren una gestión compleja de datos.\n",
    "   - Es difícil hacer un seguimiento de los parámetros que modificamos en los modelos ML. Pequeños cambios pueden conducir a enormes diferencias en los resultados.\n",
    "   - La ingeniería de características es una tarea separada que contribuye a la precisión del modelo, requiriendo seguimiento cuidadoso.\n",
    "   - Monitorear y depurar modelos de ML es complejo.\n",
    "   - Los modelos deben adaptarse a los cambios en datos del mundo real.\n",
    "\n",
    "### **MLOps vs. DevOps:**\n",
    "   - DevOps se centra en desarrollo de software; MLOps, en implementación de modelos de ML.\n",
    "   - MLOps involucra definir alcance, ingeniería de datos, modelización, despliegue y monitoreo."
   ]
  }
 ],
 "metadata": {
  "kernelspec": {
   "display_name": "Python 3 (ipykernel)",
   "language": "python",
   "name": "python3"
  },
  "language_info": {
   "codemirror_mode": {
    "name": "ipython",
    "version": 3
   },
   "file_extension": ".py",
   "mimetype": "text/x-python",
   "name": "python",
   "nbconvert_exporter": "python",
   "pygments_lexer": "ipython3",
   "version": "3.9.13"
  }
 },
 "nbformat": 4,
 "nbformat_minor": 5
}
